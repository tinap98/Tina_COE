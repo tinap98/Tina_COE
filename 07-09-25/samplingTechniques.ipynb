{
 "cells": [
  {
   "cell_type": "code",
   "execution_count": 2,
   "id": "a396cacb-e110-45dc-adaf-481b292ddfcc",
   "metadata": {},
   "outputs": [],
   "source": [
    "import pandas as pd\n",
    "from sklearn.utils import resample\n",
    "df=pd.DataFrame({\n",
    "    'Age':[22,25,27,28,30,35,40,45,50,55,60,65,70],\n",
    "    'Income':[2000,2500,2700,3200,3500,3800,4000,4200,42300,4500,5000,5500,6000],\n",
    "    'Class':['High','Low','Low','High','High','Low','High','High','Low','Low','High','High','Low']\n",
    "})\n"
   ]
  },
  {
   "cell_type": "code",
   "execution_count": 4,
   "id": "6f6a2d27-1808-40f7-9b1c-37e974df3723",
   "metadata": {},
   "outputs": [],
   "source": [
    "df_high=df[df['Class']=='High']\n",
    "df_low=df[df['Class']=='Low']"
   ]
  },
  {
   "cell_type": "code",
   "execution_count": 6,
   "id": "53ab9a53-4725-4457-97da-402eaeaf8464",
   "metadata": {},
   "outputs": [
    {
     "name": "stdout",
     "output_type": "stream",
     "text": [
      "Class\n",
      "High    6\n",
      "Low     6\n",
      "Name: count, dtype: int64\n"
     ]
    }
   ],
   "source": [
    "df_high_downsampled=resample(df_high,replace=False,n_samples=len(df_low),random_state=42)\n",
    "df_balanced=pd.concat([df_high_downsampled,df_low])\n",
    "print(df_balanced['Class'].value_counts())\n",
    "\n"
   ]
  },
  {
   "cell_type": "code",
   "execution_count": 8,
   "id": "10b83d96-6759-4ff3-affd-74f1a3a701eb",
   "metadata": {},
   "outputs": [
    {
     "name": "stdout",
     "output_type": "stream",
     "text": [
      "df high:    Age  Income Class\n",
      "0    22    2000  High\n",
      "3    28    3200  High\n",
      "4    30    3500  High\n",
      "6    40    4000  High\n",
      "7    45    4200  High\n",
      "10   60    5000  High\n",
      "11   65    5500  High\n",
      "\n",
      "df low:    Age  Income Class\n",
      "1    25    2500   Low\n",
      "2    27    2700   Low\n",
      "5    35    3800   Low\n",
      "8    50   42300   Low\n",
      "9    55    4500   Low\n",
      "12   70    6000   Low\n"
     ]
    }
   ],
   "source": [
    "print(f\"df high:{df_high}\")\n",
    "print()\n",
    "print(f\"df low:{df_low}\")"
   ]
  },
  {
   "cell_type": "code",
   "execution_count": 10,
   "id": "2e62df47-4218-4af5-8f66-1d66f2b9e11a",
   "metadata": {},
   "outputs": [],
   "source": [
    "import pandas as pd\n",
    "from sklearn.utils import resample\n",
    "df=pd.DataFrame({\n",
    "    'Age':[22,25,27,28,30,35,40,50,55,60,65,70],\n",
    "    'Income':[2000,2500,2700,3200,3500,3800,4000,4200,4300,5000,5500,6000],\n",
    "    'Class':['Minority','Majority','Majority','Majority','Minority','Minority','Majority','Majority','Majority','Majority','Minority','Majority']\n",
    "})"
   ]
  },
  {
   "cell_type": "code",
   "execution_count": 12,
   "id": "1a06b47e-4097-4674-96a7-edd39dd69443",
   "metadata": {},
   "outputs": [],
   "source": [
    "df_majority=df[df['Class']=='Majority']\n",
    "df_minority=df[df['Class']=='Minority']"
   ]
  },
  {
   "cell_type": "code",
   "execution_count": 14,
   "id": "1374d4f1-cd2e-48d0-92c9-d634b798ae7f",
   "metadata": {},
   "outputs": [
    {
     "name": "stdout",
     "output_type": "stream",
     "text": [
      "Class\n",
      "Majority    8\n",
      "Minority    8\n",
      "Name: count, dtype: int64\n"
     ]
    }
   ],
   "source": [
    "df_minority_upsampled=resample(df_minority,replace=True,n_samples=len(df_majority),random_state=42)\n",
    "df_balanced=pd.concat([df_majority,df_minority_upsampled])\n",
    "print(df_balanced['Class'].value_counts())"
   ]
  },
  {
   "cell_type": "code",
   "execution_count": 16,
   "id": "f6b44fba-4854-46a9-b14f-d96f814fdd8f",
   "metadata": {},
   "outputs": [
    {
     "name": "stdout",
     "output_type": "stream",
     "text": [
      "Requirement already satisfied: imbalanced-learn in c:\\users\\cvr\\anaconda\\lib\\site-packages (0.12.3)\n",
      "Requirement already satisfied: numpy>=1.17.3 in c:\\users\\cvr\\anaconda\\lib\\site-packages (from imbalanced-learn) (1.26.4)\n",
      "Requirement already satisfied: scipy>=1.5.0 in c:\\users\\cvr\\anaconda\\lib\\site-packages (from imbalanced-learn) (1.13.1)\n",
      "Requirement already satisfied: scikit-learn>=1.0.2 in c:\\users\\cvr\\anaconda\\lib\\site-packages (from imbalanced-learn) (1.5.1)\n",
      "Requirement already satisfied: joblib>=1.1.1 in c:\\users\\cvr\\anaconda\\lib\\site-packages (from imbalanced-learn) (1.4.2)\n",
      "Requirement already satisfied: threadpoolctl>=2.0.0 in c:\\users\\cvr\\anaconda\\lib\\site-packages (from imbalanced-learn) (3.5.0)\n",
      "Note: you may need to restart the kernel to use updated packages.\n"
     ]
    }
   ],
   "source": [
    "pip install imbalanced-learn"
   ]
  },
  {
   "cell_type": "code",
   "execution_count": 18,
   "id": "05a908a4-16e2-4ef8-9e4a-3fab5a1126f5",
   "metadata": {
    "scrolled": true
   },
   "outputs": [
    {
     "name": "stdout",
     "output_type": "stream",
     "text": [
      "Class\n",
      "Minority    8\n",
      "Majority    8\n",
      "Name: count, dtype: int64\n",
      "    Age  Income     Class\n",
      "0    22    2000  Minority\n",
      "1    25    2500  Majority\n",
      "2    27    2700  Majority\n",
      "3    28    3200  Majority\n",
      "4    30    3500  Minority\n",
      "5    35    3800  Minority\n",
      "6    40    4000  Majority\n",
      "7    50    4200  Majority\n",
      "8    55    4300  Majority\n",
      "9    60    5000  Majority\n",
      "10   65    5500  Minority\n",
      "11   70    6000  Majority\n",
      "12   32    3620  Minority\n",
      "13   30    3546  Minority\n",
      "14   59    5188  Minority\n",
      "15   36    3898  Minority\n"
     ]
    }
   ],
   "source": [
    "import pandas as pd \n",
    "from imblearn.over_sampling import SMOTE\n",
    "df=pd.DataFrame({\n",
    "    'Age':[22,25,27,28,30,35,40,50,55,60,65,70],\n",
    "    'Income':[2000,2500,2700,3200,3500,3800,4000,4200,4300,5000,5500,6000],\n",
    "    'Class':['Minority','Majority','Majority','Majority','Minority','Minority','Majority','Majority','Majority','Majority','Minority','Majority']\n",
    "})\n",
    "df['Class']=df['Class'].map({'Majority':0,'Minority':1})\n",
    "X=df[['Age','Income']]\n",
    "Y=df['Class']\n",
    "smote=SMOTE(sampling_strategy='auto',random_state=42,k_neighbors=3)\n",
    "X_resampled,y_resampled=smote.fit_resample(X,Y)\n",
    "y_resampled=y_resampled.map({0:'Majority',1:'Minority'})\n",
    "df_balanced=pd.concat([pd.DataFrame(X_resampled,columns=['Age','Income']),pd.DataFrame(y_resampled,columns=['Class'])],axis=1)\n",
    "print(df_balanced['Class'].value_counts())\n",
    "print(df_balanced)"
   ]
  },
  {
   "cell_type": "code",
   "execution_count": null,
   "id": "6b8ac8fa-da07-4419-acc4-1fd2734346d6",
   "metadata": {},
   "outputs": [],
   "source": []
  }
 ],
 "metadata": {
  "kernelspec": {
   "display_name": "Python [conda env:base] *",
   "language": "python",
   "name": "conda-base-py"
  },
  "language_info": {
   "codemirror_mode": {
    "name": "ipython",
    "version": 3
   },
   "file_extension": ".py",
   "mimetype": "text/x-python",
   "name": "python",
   "nbconvert_exporter": "python",
   "pygments_lexer": "ipython3",
   "version": "3.12.7"
  }
 },
 "nbformat": 4,
 "nbformat_minor": 5
}
