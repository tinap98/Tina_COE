{
 "cells": [
  {
   "cell_type": "code",
   "execution_count": 2,
   "metadata": {},
   "outputs": [
    {
     "name": "stdout",
     "output_type": "stream",
     "text": [
      "Not a prime number\n"
     ]
    }
   ],
   "source": [
    "def prime(num):\n",
    "    if num <= 1:\n",
    "        return \"Not a prime number\"\n",
    "    for i in range(2, num): \n",
    "        if num % i == 0:  \n",
    "            return \"Not a prime number\"\n",
    "    return \"Prime number\"  \n",
    "\n",
    "\n",
    "num = int(input(\"Enter the number: \"))\n",
    "print(prime(num))\n"
   ]
  },
  {
   "cell_type": "code",
   "execution_count": 3,
   "metadata": {},
   "outputs": [
    {
     "name": "stdout",
     "output_type": "stream",
     "text": [
      "24\n"
     ]
    }
   ],
   "source": [
    "def factorial(n):\n",
    "    if n == 0 or n == 1:\n",
    "        return 1\n",
    "    else:\n",
    "        return n * factorial(n - 1)\n",
    "\n",
    "n = int(input(\"Enter the number: \"))\n",
    "print(factorial(n))\n"
   ]
  },
  {
   "cell_type": "code",
   "execution_count": 4,
   "metadata": {},
   "outputs": [
    {
     "name": "stdout",
     "output_type": "stream",
     "text": [
      "Cart items: {'Laptop': 50000, 'Headphones': 2000, 'Mouse': 3500, 'Keyboard': 1500, 'Monitor': 800, 'USB Drive': 1000}\n",
      "Total price: 40483.8\n"
     ]
    }
   ],
   "source": [
    "def cal_total(cart):\n",
    "    total = sum(cart.values())  \n",
    "    if total >= 25000:\n",
    "        total *= 0.9 \n",
    "    if total >= 50000:\n",
    "        total *= 0.85  \n",
    "    if len(cart) > 5:\n",
    "        total *= 0.9 \n",
    "    return total\n",
    "\n",
    "cart = {'Laptop': 50000, 'Headphones': 2000, 'Mouse': 3500, 'Keyboard': 1500, 'Monitor': 800, 'USB Drive': 1000}\n",
    "print(f\"Cart items: {cart}\")\n",
    "print(f\"Total price: {cal_total(cart)}\")\n"
   ]
  },
  {
   "cell_type": "code",
   "execution_count": 7,
   "metadata": {},
   "outputs": [
    {
     "name": "stdout",
     "output_type": "stream",
     "text": [
      "Strong: Your password is secure!\n"
     ]
    }
   ],
   "source": [
    "import re\n",
    "\n",
    "def check_password(password):\n",
    "    if not (10 <= len(password) <= 15):\n",
    "        return \"Weak: Use a minimum of 10 characters and a maximum of 15 characters.\"\n",
    "\n",
    "    if not any(char.isupper() for char in password):\n",
    "        return \"Moderate: Use at least one uppercase letter.\"\n",
    "\n",
    "    if not any(char.islower() for char in password):\n",
    "        return \"Moderate: Use at least one lowercase letter.\"\n",
    "\n",
    "    if not any(char.isdigit() for char in password):\n",
    "        return \"Moderate: Use at least one digit.\"\n",
    "\n",
    "    if not re.search(r\"[!@#$%^&*(),.?\\\":{}|<>]\", password):\n",
    "        return \"Moderate: Use at least one special character.\"\n",
    "\n",
    "    if \" \" in password:\n",
    "        return \"Weak: Password should not contain white spaces.\"\n",
    "\n",
    "    if password.endswith('.') or password.endswith('@'):\n",
    "        return \"Weak: Password should not end with a '.' (dot) or '@' symbol.\"\n",
    "\n",
    "    return \"Strong: Your password is secure!\"\n",
    "\n",
    "password = input(\"Enter your password: \")\n",
    "\n",
    "print(check_password(password))\n"
   ]
  }
 ],
 "metadata": {
  "kernelspec": {
   "display_name": "Python 3",
   "language": "python",
   "name": "python3"
  },
  "language_info": {
   "codemirror_mode": {
    "name": "ipython",
    "version": 3
   },
   "file_extension": ".py",
   "mimetype": "text/x-python",
   "name": "python",
   "nbconvert_exporter": "python",
   "pygments_lexer": "ipython3",
   "version": "3.13.1"
  }
 },
 "nbformat": 4,
 "nbformat_minor": 2
}
