{
 "cells": [
  {
   "cell_type": "code",
   "execution_count": 67,
   "id": "da20cfa6",
   "metadata": {},
   "outputs": [],
   "source": [
    "import numpy as np\n",
    "def LinearRegression(x,y):\n",
    "    x_m=np.mean(x)\n",
    "    y_m=np.mean(y)\n",
    "    n=len(x)\n",
    "    numerator=0\n",
    "    denomenator=0\n",
    "    for i in range(n):\n",
    "        numerator=numerator+(x[i]-x_m)*(y[i]-y_m)\n",
    "        denomenator=denomenator+(x[i]-x_m)**2\n",
    "    slope=numerator/denomenator\n",
    "    c=y_m-slope*x_m\n",
    "    return m,c\n",
    "x=[1,2,3,4,5]\n",
    "y=[3,4,2,4,5]"
   ]
  },
  {
   "cell_type": "code",
   "execution_count": 68,
   "id": "8dd4c4de",
   "metadata": {},
   "outputs": [
    {
     "name": "stdout",
     "output_type": "stream",
     "text": [
      "y = 0.4x + 2.4\n"
     ]
    }
   ],
   "source": [
    "m,c=LinearRegression(x,y)\n",
    "print(f'y = {slope}x + {c}')"
   ]
  },
  {
   "cell_type": "code",
   "execution_count": 70,
   "id": "15bf9f26",
   "metadata": {},
   "outputs": [
    {
     "data": {
      "text/plain": [
       "[2.8, 3.2, 3.6, 4.0, 4.4]"
      ]
     },
     "execution_count": 70,
     "metadata": {},
     "output_type": "execute_result"
    }
   ],
   "source": [
    "def Predict(x):\n",
    "    y_p=[]\n",
    "    for i in range(len(x)):\n",
    "        y_p.append(slope*x[i]+c)\n",
    "    return y_p\n",
    "y_p=Predict(x)\n",
    "y_p"
   ]
  },
  {
   "cell_type": "code",
   "execution_count": 83,
   "id": "8a97780c",
   "metadata": {},
   "outputs": [],
   "source": [
    "def r2score(y,y_p):\n",
    "    y_m=np.mean(y)\n",
    "    print(y_m)\n",
    "    num=0\n",
    "    den=0\n",
    "    for i in range(len(y)):\n",
    "        num=num+(y_p[i]-y_m)**2\n",
    "        den=den+(y[i]-y_m)**2\n",
    "    return num/den"
   ]
  },
  {
   "cell_type": "code",
   "execution_count": 85,
   "id": "767afd75",
   "metadata": {},
   "outputs": [
    {
     "name": "stdout",
     "output_type": "stream",
     "text": [
      "3.6\n",
      "0.6923076923076922\n"
     ]
    }
   ],
   "source": [
    " print(1-r2score(y,y_p))"
   ]
  },
  {
   "cell_type": "code",
   "execution_count": null,
   "id": "8f93dc59",
   "metadata": {},
   "outputs": [],
   "source": []
  }
 ],
 "metadata": {
  "kernelspec": {
   "display_name": "Python 3 (ipykernel)",
   "language": "python",
   "name": "python3"
  },
  "language_info": {
   "codemirror_mode": {
    "name": "ipython",
    "version": 3
   },
   "file_extension": ".py",
   "mimetype": "text/x-python",
   "name": "python",
   "nbconvert_exporter": "python",
   "pygments_lexer": "ipython3",
   "version": "3.11.5"
  }
 },
 "nbformat": 4,
 "nbformat_minor": 5
}
